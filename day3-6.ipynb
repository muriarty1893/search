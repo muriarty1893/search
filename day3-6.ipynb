{
 "cells": [
  {
   "cell_type": "code",
   "execution_count": null,
   "id": "c6fe778d",
   "metadata": {},
   "outputs": [],
   "source": [
    "import pandas as pd\n",
    "from elasticsearch import Elasticsearch\n",
    "from elasticsearch.helpers import bulk\n",
    "#checking if ready "
   ]
  },
  {
   "cell_type": "code",
   "execution_count": 102,
   "id": "74230c4d",
   "metadata": {},
   "outputs": [
    {
     "name": "stdout",
     "output_type": "stream",
     "text": [
      "True\n"
     ]
    }
   ],
   "source": [
    "es=Elasticsearch([{\"host\":\"localhost\",\"port\":9200}],http_auth=(\"elastic\",\"suVlWmYRKKFk6RYs_TrU\"))\n",
    "print(es.ping())"
   ]
  },
  {
   "cell_type": "code",
   "execution_count": 103,
   "id": "ceb6953f",
   "metadata": {},
   "outputs": [],
   "source": [
    "df=pd.read_csv('buildler2.csv')"
   ]
  },
  {
   "cell_type": "code",
   "execution_count": 104,
   "id": "0a21856a",
   "metadata": {},
   "outputs": [],
   "source": [
    "df = df.where(pd.notnull(df), None)"
   ]
  },
  {
   "cell_type": "code",
   "execution_count": 105,
   "id": "dcfbc1db",
   "metadata": {},
   "outputs": [],
   "source": [
    "path_of_exile_builds_index = {\n",
    "    \"settings\": {\n",
    "        \"index\": {\n",
    "            \"analysis\": {\n",
    "                \"analyzer\": {\n",
    "                    \"custom_analyzer\": {\n",
    "                        \"type\": \"custom\",\n",
    "                        \"tokenizer\": \"standard\",\n",
    "                        \"filter\": [\n",
    "                            \"lowercase\",\n",
    "                            \"asciifolding\",\n",
    "                            \"custom_edge_ngram\"\n",
    "                        ]\n",
    "                    }\n",
    "                },\n",
    "                \"filter\": {\n",
    "                    \"custom_edge_ngram\": {\n",
    "                        \"type\": \"edge_ngram\",\n",
    "                        \"min_gram\": 2,\n",
    "                        \"max_gram\": 10\n",
    "                    }\n",
    "                }\n",
    "            }\n",
    "        }\n",
    "    },\n",
    "    \"mappings\": {\n",
    "        \"properties\": {\n",
    "            \"Build\": {\n",
    "                \"type\": \"text\",\n",
    "                \"analyzer\": \"custom_analyzer\"\n",
    "            },\n",
    "            \"Ascendancy\": {\n",
    "                \"type\": \"keyword\"\n",
    "            },\n",
    "            \"Açıklama\": {\n",
    "                \"type\": \"text\",\n",
    "                \"analyzer\": \"custom_analyzer\"\n",
    "            }\n",
    "        }\n",
    "    }\n",
    "}"
   ]
  },
  {
   "cell_type": "code",
   "execution_count": 106,
   "id": "21305ea6",
   "metadata": {},
   "outputs": [],
   "source": [
    "def dataframe_to_es(df, es_index):\n",
    "    for df_idx, line in df.iterrows():\n",
    "        yield {\n",
    "            \"_index\": es_index,\n",
    "            \"_id\": df_idx,  # Satır numarasını Elasticsearch belgesi ID'si olarak kullanıyoruz\n",
    "            \"_source\": {\n",
    "                \"Build\": line['Build'],\n",
    "                \"Ascendancy\": line['Ascendancy'],\n",
    "                \"Açıklama\": line['Açıklama']\n",
    "            }\n",
    "        }"
   ]
  },
  {
   "cell_type": "code",
   "execution_count": 107,
   "id": "d752a45c",
   "metadata": {},
   "outputs": [],
   "source": [
    "try:\n",
    "    es.indices.delete(\"path_of_exile_builds_index\")\n",
    "except:\n",
    "    print(\"No index\")"
   ]
  },
  {
   "cell_type": "code",
   "execution_count": 108,
   "id": "f0f251c1",
   "metadata": {
    "scrolled": true
   },
   "outputs": [
    {
     "data": {
      "text/plain": [
       "{'acknowledged': True,\n",
       " 'shards_acknowledged': True,\n",
       " 'index': 'path_of_exile_builds_index'}"
      ]
     },
     "execution_count": 108,
     "metadata": {},
     "output_type": "execute_result"
    }
   ],
   "source": [
    "es.indices.create(index=\"path_of_exile_builds_index\", body=path_of_exile_builds_index)  # <--- Eklenen satır"
   ]
  },
  {
   "cell_type": "code",
   "execution_count": 109,
   "id": "ceb96e4e",
   "metadata": {
    "scrolled": false
   },
   "outputs": [
    {
     "data": {
      "text/plain": [
       "(33, [])"
      ]
     },
     "execution_count": 109,
     "metadata": {},
     "output_type": "execute_result"
    }
   ],
   "source": [
    "bulk(es, dataframe_to_es(df, \"path_of_exile_builds_index\"), raise_on_error=False)"
   ]
  },
  {
   "cell_type": "code",
   "execution_count": 114,
   "id": "ec45cc18",
   "metadata": {},
   "outputs": [],
   "source": [
    "search_query = \" aura \" #ENTER THE SEARCH INPUT HERE\n",
    "\n",
    "response = es.search(index='path_of_exile_builds_index', body={\n",
    "    \"query\": {\n",
    "        \"match\": {\n",
    "            \"Build\": {\n",
    "                \"query\": search_query,\n",
    "                \"operator\": \"and\"  # <--- Eklenen satır\n",
    "            }\n",
    "        }\n",
    "    }\n",
    "})"
   ]
  },
  {
   "cell_type": "code",
   "execution_count": 115,
   "id": "713bea2c",
   "metadata": {},
   "outputs": [
    {
     "name": "stdout",
     "output_type": "stream",
     "text": [
      "{'Build': 'aurabot', 'Ascendancy': None, 'Açıklama': 'Aurabot; müttefiklere çeşitli destek auraları sağlayan bir build.'}\n"
     ]
    }
   ],
   "source": [
    "for hit in response['hits']['hits']:\n",
    "    print(hit['_source'])"
   ]
  }
 ],
 "metadata": {
  "kernelspec": {
   "display_name": "Python 3 (ipykernel)",
   "language": "python",
   "name": "python3"
  },
  "language_info": {
   "codemirror_mode": {
    "name": "ipython",
    "version": 3
   },
   "file_extension": ".py",
   "mimetype": "text/x-python",
   "name": "python",
   "nbconvert_exporter": "python",
   "pygments_lexer": "ipython3",
   "version": "3.9.12"
  }
 },
 "nbformat": 4,
 "nbformat_minor": 5
}
